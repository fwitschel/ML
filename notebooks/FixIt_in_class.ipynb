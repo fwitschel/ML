{
  "cells": [
    {
      "cell_type": "markdown",
      "metadata": {
        "id": "view-in-github",
        "colab_type": "text"
      },
      "source": [
        "<a target=\"_blank\" href=\"https://colab.research.google.com/github/fwitschel/ML/blob/main/notebooks/FixIt_in_class.ipynb\"><img src=\"https://colab.research.google.com/assets/colab-badge.svg\" alt=\"Open In Colab\"/></a>"
      ]
    },
    {
      "cell_type": "code",
      "source": [
        "import os\n",
        "\n",
        "# Execute this code only if in colab\n",
        "if 'COLAB_GPU' in os.environ:\n",
        "  print(\"Executing in Colab!\")\n",
        "  # Cloning GitHub repository\n",
        "  !git clone https://github.com/fwitschel/ML.git\n",
        "  %cd ML\n"
      ],
      "metadata": {
        "id": "qRHf7ZEBbs5-"
      },
      "execution_count": null,
      "outputs": []
    },
    {
      "cell_type": "code",
      "execution_count": 1,
      "metadata": {
        "id": "AG5aMg1HR0AC"
      },
      "outputs": [],
      "source": [
        "import numpy as np\n",
        "\n",
        "# Mit pandas kann man z.B. einfach Daten aus csv-Dateien laden und verarbeiten.\n",
        "# Sie landen dann in einem \"Data Frame\"...\n",
        "import pandas as pd\n",
        "\n",
        "# Wir wollen einen Entscheidungsbaum verwenden:\n",
        "from sklearn.tree import DecisionTreeClassifier\n",
        "from sklearn import tree\n",
        "\n",
        "# Bibliotheken für die Evaluation:\n",
        "from sklearn.metrics import accuracy_score\n",
        "from sklearn.metrics import classification_report\n",
        "from sklearn.metrics import confusion_matrix\n",
        "from sklearn.model_selection import train_test_split\n",
        "from sklearn import metrics\n",
        "\n",
        "# Visualisierung des Entscheidungsbaums\n",
        "from matplotlib import pyplot as plt"
      ]
    },
    {
      "cell_type": "markdown",
      "source": [
        "Wir laden die Daten:![Load-data.png](data:image/png;base64,iVBORw0KGgoAAAANSUhEUgAAAKsAAABhCAYAAACpm1HLAAAAAXNSR0IArs4c6QAAAARnQU1BAACxjwv8YQUAAAAJcEhZcwAADsMAAA7DAcdvqGQAAA5eSURBVHhe7Z3fTxzXFcf5E/rWJytPyJHah0RxHuJGVhVVzVNVKVXzo21+WYKHWlb7UiVxmyjJQ6XIbXAVVVHSJI6xcRw7hsUGbGODbYwNBBvwD34YMOAfGIxtsMGAYYHT8z1z7zC77BLjeHbnwvlKR2JnZu9cez/zveeeO7ObQyqVI1JYVc5IYVU5I4VV5YwUVpUzUlhVzkhhVTkjhVXljBRWlTNSWFXOSGFVOSOFVeWMFFaVM1JYVc5IYVU5I4VV5YwUVpUzUlhVzkhhVTkjhVXljCIN69xsnOJ3LtN0fz3Feypp9uJemmvfRdS6XQJ/Yxv2yTF8LN7zsDrf2UOXrlw3r1RRU+RgnZu5T/HbXRTvq6K51h0MZaGBE39ztBUlht0uxxTKe/BetIG2HlR1zRfoi+/KJKrqz5itqigpMrDOzU7T9GALzbXtNOBZMPl1+zcc7KgS3xJ1mMDf/nY+Bsf6ALPz8mtp8wHc9mhDsw8ror6l1exRRUXZh3VulqZvddAswAOkPqAMoEC5m2MP0cXvTOxNCrMdx8ixBmAf3O00y9txDpwrnaampmhb7EACsB2XLpu9qigoq7DOTt2jma79DBSGejiphZShuwhAGcbOYo4Soq6YidKkMNtxDI4VgA24Flpx2kI5F86ZTqNjY7S1uMKH9au95XR3bNzsVWVbWYN15t5QwE2DkLJL+oAyjN37OBjo7jKiS4jypOBt2CfH8LF4jw8uHDcILbssn3NmfMj0YqEGbw0zqOU+sDvLDps9qmwrK7DGh7s9SOF4yDUxdMMNO+GkFlKGT+CsIOo5wHGQqBdxKCl4G/bhGBwr8PJ7fWit0yI94HOJyxZ5fUij5rYuH1aE5q/RUMZhFUgumGFfQLVuGoSUHbOHwbNw9rG7SRwhulyVGNhm9/vwAlpuIwit77IGWO7DYsDGqk/4sH7JTjs+OWn2qLKljMIqw2+CowJU46YYwuGKPqSVATiria4c5TjGcZzoqgn8Ldt4H46x8OK9PrRwWm5bgOVzBYFlh02XEkzyhOtLzlktsKXVtWaPKlvKGKyY2Hg5ahKomBwJqHBTHsp9SA2gAmYN0bUTHAzMtZNJgW28D8cIwAZcC62kB3BZ5LN8riRg0ad0k67G8x0+rF/sLZMJmCp7ygysc7Nm1s+uugBUM+zDCXko37f1I/ps8zscmzj+Tp/96x8c73rx7/dSxpXTDGL/KQ/eqwDXQgunRXrAbftpQTKw272+pSlrFcYO+sCWHeNzrEhN0sjAAA0gRrKXDmUEVqlxojyFGblMpkyOah3VgApHzHvt9/TUU08tKX713C+ptYYnUdfrGdq6eWiRIojLBoG1KQFyWO6LVAkKvT6m0Jm2i/Puyrkr6rErTxWUn/Nz+s3GjfTyc6vopz99ljYdGzb7MqfQYcXK1Pzwv4shwaw/NajIQfNee5Hy3viDeffiKtm9wwf22V+spRP7txINfG+ghdMCWHbZtMByX9AnpAPstOlWuraWzC8WrMzKAMO6ZjO1m1fxoVLKz11Hn3Txi/5GihUVUMHnMTrUMkTe/yAf/0wBYfejVOiwYrlThn9xVR56UUrCDF0mU5xPBkBF/pn3+ksM6x/Nu39YL/7utz6wTz+9hkq2/YeBbWRgGwywnNMGgZUcls8tVQKTDpgarPQ1hY7UNfqw7tjPefBKU1cBPZMEX1fBM7Tuk14ar9tDn8diFIsV0VvrcmkTfKLxPfr16vX0KW+v6hjl1zEqKijg4w5Ry9DD32gUKqy4kWROlk85xFXt8M85osz6+YNHXonhGi7IcOW9/jLlvfkn08IP658fbPJhtfHZxx8QDZ4OAGtTAj6XTLr43OiDTQdk0aBI7iVIdfPL8OioDytixa1qpYCVKvIpJ5//H5HPttYwrDH6dP1qAbh/33pa7cM6SHV7Ppf9saK3aF3uJmKeH0qhwoo7nxJdtdi4qh3+ecYuM34PVMC1VFj/99+CBbAiPnznLzTTj5TAACs5LJ9LqgQmHRB35T4F3FX6nEKFpYd8WBvP2wFxhSgFrE3vA8wLVLkhl57cABgP0e6315Dwm3z85AjPKeC+n9L61Zw+9JrtS1S4sPaxky3IVYOuykMzZu6YECHP5OE7741XlgTrxx99mBJWBID1UgJuWyZdJh1Y4K7zuWu8j/enUPnxOh/W4soas3WFCPCt+4QsY/HLO+ilx16iXcOcm+bkc4bqqX1zANY3S738dbSSNuQ+SRs4p40d2k1vr5k/fqkKDVZMVuR+VKQAUgEI5KoLXJVn8JgYDTYtGdYP332L/vbXP9OenVup9ewZar/Q7Lst2kKb0jbOscBdTe4qpSxUBjgV4D6nmmi1dff6sG4tedj/bkfV9D6t/skqevzxxzlW0aqfvUIFDagGjIqz5j6/nja++gI98VjOQlj9dAFqp81RhBV37c+Xq0wKIBUA7iqWRZE/Bl0VOeaN5iXDmk6YeAms3KaXvwbdFbkr9wF9kcpAMBUo9PqeJJSsLKyI+Gz62w2XrSYnOUNNlleDvTkW59F+gKQMK26aS8+v57y12v69kV594Ql6LODES1VosOIxE8lXZREgmAIEKgBYdUI+aVz1UcKKNuZhte6K3JXPGawM2FQAfTSLBNL3FAouv/bfuGm2qlKK89SBgZvEDAf+BtgjKYB/MIXnrD2cF/r5Ks+4ZbUK5SqkAAwKhmOpACAF4LwSUIUFKwLnkAUDmwoAVu4L+iSrWqYqgLy1h/el0PbAalZdywWzVZUphQYrHuRbAGtCvopyVW1CChAqrH4qgLornzshb02EVfqepM6+q/SlARUBl8U2VeYU3gQLH7zUV4OTK5SsTL4qiwDIVxsYpDMZgJXPgXPhnLJIYPNWU8JCH9FXTLLQ94BG740nPEFgA9uwT5UZhQarV19NrgQEYPUnV1mANWGSFYDVVASk7wG191xeAKoNOOxXxeUCLqoEX5ccoK9jB2gbpwzbSg9KfXb7PkSlrH4VIcoOyxMIO8uP0Dccuyqq6NsD1bTn4FHaW3mcSo7UUGlVLe0/epLKjtdRRU09HaxtoMqTjXSk7jRV1zfRse+bqeb0Wao9c45ONZ/ntKSVGs610ekLHdTS3kXnOy9R26U+uth7hbqv9FNf/wBdHRyigaFbNHR7hG7fuUt3xu7RvYkJmrw/RdPxOM3OzZl/cTSlsP5IWJdb4OLDhYYL65vyKtrNF1DxYb54qmvlrrODJxro8KlGqm5oouONLXSy6TzVn22lRr5Imto66dzFS9Ta3UsdPXyRXL5GvdcG6MrADerni+TGrWG6NXKXRkbHaGx8giYm79PUdJxmHrCyomlAENaHSAPujN6T/+yZmVmKz8xQPD4jLjXNH8LU9DTdn0JMiXtNIPgDGkdMTLKrTcqHhrjLLocPcfjOKH+gd8T9Bm/epuv8IV9jR8QHDnfsuXpdnLKL82W4Zju7J+CAk57t6BZgsMIGp61tOidA4XsQ4MoH2KEBXKzqhDg4QIS7w/UxIiT/+zIduGEIo9DOsiO0m0ca9BF93c99xuiiE6wfMcECMMtNs3zh4UKbuH9fLiJcQHDDG3zx4MK5OjAkbokLBhdLa3efuCkuEqQg9Wfb6CSnJUhRjrL7Hj51WtwY6QzcGS6NdAepD9wbLo6niIPQpovQYNXSlWopQr6MEQkjEEYcjDQYZTDCDPAIg3w7NFh1UUD1qBWes2Z5uTURVpsCJE+udLnVJYU3wcrQjSzp5MPquyqfQ29kcVqhwQpl4hbBdPJhRa6a4Kp8Tr1F0EmFC2sGbr5OJ4GV25JyleSqya5qSlYJKYDefB1lhQqr91gLQyD1VlMVWOCuqLmijOUB+8hhBahSAeBzSK6a7KqmCoAUgPuqj7VEV6HCCoX9wGA6oQ205dVVzfBvKwA2V9UHBp1S6LBishLWo9iLCW2grQRQ7fAvFYDEXHXxR7HnV6/0S9qyp9BhhcL+kot0gbbSg8p9kAoAXFW/5MIFZQRWtqxQvz7I349j8R557zvSViKofC5ZrTLDv1kEWOzrg3DnlIV15X59UDSUGVhZkf1iNv5bv5jNDWUMVsj7ykvcgpcErJ8SYNKFKgE7oQ8tz+AtuJjRIwcVgAEmAtsMoDjWQoo20Bba9If+RFAX/crLSf3Ky6gpo7BC+mXCqodVxmGFBBJxNgssJl2oEhiX9aFlV8T6PYZy3CFl4U0IwInAcG+dNAAp2kTbOEfAURcDNXFSpRWAqCgrsEIYfr0c1tRgUULyXbY4AC0P4YAPt/IJvOyYCQE4DaCSl1pIuQ3fTVH092qpOGe6oR/SH8CIrrIGK4SJjVclMGlBArTshpLPWnB5ciTBMCaE2e4Dap00CCncVH9ayHVlFVbRnPnRNsAlLssTMB9adl5sx72mcEkJwBgMsx3HyLEY7g2kaAtuytuljpqmPAXpj7ZFX9mH1QirR/LTlWa49pzWgsu5JgCUAMAm8Le/nY/xAYWT2p/DPCtt/5D05zCjr8jAaoUbSXDnE27Vk/thJUUw8PoAB8Jul2PsDw1XSxupbkpJJ/2h4egrcrAGBUfEXft4zATPReFBPnnyVMAM/oT7Ye8YPvZBXDSdWjt7qOea/oR7VBVpWFWqoBRWlTNSWFXOSGFVOSOFVeWMFFaVM1JYVc5IYVU5I4VV5YwUVpUzUlhVzkhhVTkjhVXljBRWlTNSWFXOyE1Yu7bQ2rVbEn7/XrX8FU1YAWNODuUEA3BaSBXWFakIw7rIT30rrCtSbsGa0lm7aMta68BraYsSvGzlPKwV+Tm01hJake+lC94r1TKTOzlrPqO7ANYKyk+AGq/VXZer3HZWOS4JaoV12crxNCDZWVXLWcsrZ2VV5Cu8y1XOw8obA9UADuS2qmWpaMKqUqWQwqpyRgqryhkprCpHRPR/OusUtP/rin0AAAAASUVORK5CYII=)"
      ],
      "metadata": {
        "id": "GwbbYxqNSeEv"
      }
    },
    {
      "cell_type": "code",
      "execution_count": 2,
      "metadata": {
        "colab": {
          "base_uri": "https://localhost:8080/"
        },
        "id": "sUljSSjdR0AG",
        "outputId": "54ef65b3-dfe4-41f7-a646-1457fabf0c0d"
      },
      "outputs": [
        {
          "output_type": "error",
          "ename": "FileNotFoundError",
          "evalue": "[Errno 2] No such file or directory: 'fixit.csv'",
          "traceback": [
            "\u001b[0;31m---------------------------------------------------------------------------\u001b[0m",
            "\u001b[0;31mFileNotFoundError\u001b[0m                         Traceback (most recent call last)",
            "\u001b[0;32m<ipython-input-2-74773a2bd81a>\u001b[0m in \u001b[0;36m<cell line: 0>\u001b[0;34m()\u001b[0m\n\u001b[0;32m----> 1\u001b[0;31m \u001b[0mfixit\u001b[0m \u001b[0;34m=\u001b[0m \u001b[0mpd\u001b[0m\u001b[0;34m.\u001b[0m\u001b[0mread_csv\u001b[0m\u001b[0;34m(\u001b[0m\u001b[0;34m\"fixit.csv\"\u001b[0m\u001b[0;34m)\u001b[0m\u001b[0;34m\u001b[0m\u001b[0;34m\u001b[0m\u001b[0m\n\u001b[0m\u001b[1;32m      2\u001b[0m \u001b[0mfixit\u001b[0m\u001b[0;34m.\u001b[0m\u001b[0mhead\u001b[0m\u001b[0;34m(\u001b[0m\u001b[0;34m)\u001b[0m\u001b[0;34m\u001b[0m\u001b[0;34m\u001b[0m\u001b[0m\n",
            "\u001b[0;32m/usr/local/lib/python3.11/dist-packages/pandas/io/parsers/readers.py\u001b[0m in \u001b[0;36mread_csv\u001b[0;34m(filepath_or_buffer, sep, delimiter, header, names, index_col, usecols, dtype, engine, converters, true_values, false_values, skipinitialspace, skiprows, skipfooter, nrows, na_values, keep_default_na, na_filter, verbose, skip_blank_lines, parse_dates, infer_datetime_format, keep_date_col, date_parser, date_format, dayfirst, cache_dates, iterator, chunksize, compression, thousands, decimal, lineterminator, quotechar, quoting, doublequote, escapechar, comment, encoding, encoding_errors, dialect, on_bad_lines, delim_whitespace, low_memory, memory_map, float_precision, storage_options, dtype_backend)\u001b[0m\n\u001b[1;32m   1024\u001b[0m     \u001b[0mkwds\u001b[0m\u001b[0;34m.\u001b[0m\u001b[0mupdate\u001b[0m\u001b[0;34m(\u001b[0m\u001b[0mkwds_defaults\u001b[0m\u001b[0;34m)\u001b[0m\u001b[0;34m\u001b[0m\u001b[0;34m\u001b[0m\u001b[0m\n\u001b[1;32m   1025\u001b[0m \u001b[0;34m\u001b[0m\u001b[0m\n\u001b[0;32m-> 1026\u001b[0;31m     \u001b[0;32mreturn\u001b[0m \u001b[0m_read\u001b[0m\u001b[0;34m(\u001b[0m\u001b[0mfilepath_or_buffer\u001b[0m\u001b[0;34m,\u001b[0m \u001b[0mkwds\u001b[0m\u001b[0;34m)\u001b[0m\u001b[0;34m\u001b[0m\u001b[0;34m\u001b[0m\u001b[0m\n\u001b[0m\u001b[1;32m   1027\u001b[0m \u001b[0;34m\u001b[0m\u001b[0m\n\u001b[1;32m   1028\u001b[0m \u001b[0;34m\u001b[0m\u001b[0m\n",
            "\u001b[0;32m/usr/local/lib/python3.11/dist-packages/pandas/io/parsers/readers.py\u001b[0m in \u001b[0;36m_read\u001b[0;34m(filepath_or_buffer, kwds)\u001b[0m\n\u001b[1;32m    618\u001b[0m \u001b[0;34m\u001b[0m\u001b[0m\n\u001b[1;32m    619\u001b[0m     \u001b[0;31m# Create the parser.\u001b[0m\u001b[0;34m\u001b[0m\u001b[0;34m\u001b[0m\u001b[0m\n\u001b[0;32m--> 620\u001b[0;31m     \u001b[0mparser\u001b[0m \u001b[0;34m=\u001b[0m \u001b[0mTextFileReader\u001b[0m\u001b[0;34m(\u001b[0m\u001b[0mfilepath_or_buffer\u001b[0m\u001b[0;34m,\u001b[0m \u001b[0;34m**\u001b[0m\u001b[0mkwds\u001b[0m\u001b[0;34m)\u001b[0m\u001b[0;34m\u001b[0m\u001b[0;34m\u001b[0m\u001b[0m\n\u001b[0m\u001b[1;32m    621\u001b[0m \u001b[0;34m\u001b[0m\u001b[0m\n\u001b[1;32m    622\u001b[0m     \u001b[0;32mif\u001b[0m \u001b[0mchunksize\u001b[0m \u001b[0;32mor\u001b[0m \u001b[0miterator\u001b[0m\u001b[0;34m:\u001b[0m\u001b[0;34m\u001b[0m\u001b[0;34m\u001b[0m\u001b[0m\n",
            "\u001b[0;32m/usr/local/lib/python3.11/dist-packages/pandas/io/parsers/readers.py\u001b[0m in \u001b[0;36m__init__\u001b[0;34m(self, f, engine, **kwds)\u001b[0m\n\u001b[1;32m   1618\u001b[0m \u001b[0;34m\u001b[0m\u001b[0m\n\u001b[1;32m   1619\u001b[0m         \u001b[0mself\u001b[0m\u001b[0;34m.\u001b[0m\u001b[0mhandles\u001b[0m\u001b[0;34m:\u001b[0m \u001b[0mIOHandles\u001b[0m \u001b[0;34m|\u001b[0m \u001b[0;32mNone\u001b[0m \u001b[0;34m=\u001b[0m \u001b[0;32mNone\u001b[0m\u001b[0;34m\u001b[0m\u001b[0;34m\u001b[0m\u001b[0m\n\u001b[0;32m-> 1620\u001b[0;31m         \u001b[0mself\u001b[0m\u001b[0;34m.\u001b[0m\u001b[0m_engine\u001b[0m \u001b[0;34m=\u001b[0m \u001b[0mself\u001b[0m\u001b[0;34m.\u001b[0m\u001b[0m_make_engine\u001b[0m\u001b[0;34m(\u001b[0m\u001b[0mf\u001b[0m\u001b[0;34m,\u001b[0m \u001b[0mself\u001b[0m\u001b[0;34m.\u001b[0m\u001b[0mengine\u001b[0m\u001b[0;34m)\u001b[0m\u001b[0;34m\u001b[0m\u001b[0;34m\u001b[0m\u001b[0m\n\u001b[0m\u001b[1;32m   1621\u001b[0m \u001b[0;34m\u001b[0m\u001b[0m\n\u001b[1;32m   1622\u001b[0m     \u001b[0;32mdef\u001b[0m \u001b[0mclose\u001b[0m\u001b[0;34m(\u001b[0m\u001b[0mself\u001b[0m\u001b[0;34m)\u001b[0m \u001b[0;34m->\u001b[0m \u001b[0;32mNone\u001b[0m\u001b[0;34m:\u001b[0m\u001b[0;34m\u001b[0m\u001b[0;34m\u001b[0m\u001b[0m\n",
            "\u001b[0;32m/usr/local/lib/python3.11/dist-packages/pandas/io/parsers/readers.py\u001b[0m in \u001b[0;36m_make_engine\u001b[0;34m(self, f, engine)\u001b[0m\n\u001b[1;32m   1878\u001b[0m                 \u001b[0;32mif\u001b[0m \u001b[0;34m\"b\"\u001b[0m \u001b[0;32mnot\u001b[0m \u001b[0;32min\u001b[0m \u001b[0mmode\u001b[0m\u001b[0;34m:\u001b[0m\u001b[0;34m\u001b[0m\u001b[0;34m\u001b[0m\u001b[0m\n\u001b[1;32m   1879\u001b[0m                     \u001b[0mmode\u001b[0m \u001b[0;34m+=\u001b[0m \u001b[0;34m\"b\"\u001b[0m\u001b[0;34m\u001b[0m\u001b[0;34m\u001b[0m\u001b[0m\n\u001b[0;32m-> 1880\u001b[0;31m             self.handles = get_handle(\n\u001b[0m\u001b[1;32m   1881\u001b[0m                 \u001b[0mf\u001b[0m\u001b[0;34m,\u001b[0m\u001b[0;34m\u001b[0m\u001b[0;34m\u001b[0m\u001b[0m\n\u001b[1;32m   1882\u001b[0m                 \u001b[0mmode\u001b[0m\u001b[0;34m,\u001b[0m\u001b[0;34m\u001b[0m\u001b[0;34m\u001b[0m\u001b[0m\n",
            "\u001b[0;32m/usr/local/lib/python3.11/dist-packages/pandas/io/common.py\u001b[0m in \u001b[0;36mget_handle\u001b[0;34m(path_or_buf, mode, encoding, compression, memory_map, is_text, errors, storage_options)\u001b[0m\n\u001b[1;32m    871\u001b[0m         \u001b[0;32mif\u001b[0m \u001b[0mioargs\u001b[0m\u001b[0;34m.\u001b[0m\u001b[0mencoding\u001b[0m \u001b[0;32mand\u001b[0m \u001b[0;34m\"b\"\u001b[0m \u001b[0;32mnot\u001b[0m \u001b[0;32min\u001b[0m \u001b[0mioargs\u001b[0m\u001b[0;34m.\u001b[0m\u001b[0mmode\u001b[0m\u001b[0;34m:\u001b[0m\u001b[0;34m\u001b[0m\u001b[0;34m\u001b[0m\u001b[0m\n\u001b[1;32m    872\u001b[0m             \u001b[0;31m# Encoding\u001b[0m\u001b[0;34m\u001b[0m\u001b[0;34m\u001b[0m\u001b[0m\n\u001b[0;32m--> 873\u001b[0;31m             handle = open(\n\u001b[0m\u001b[1;32m    874\u001b[0m                 \u001b[0mhandle\u001b[0m\u001b[0;34m,\u001b[0m\u001b[0;34m\u001b[0m\u001b[0;34m\u001b[0m\u001b[0m\n\u001b[1;32m    875\u001b[0m                 \u001b[0mioargs\u001b[0m\u001b[0;34m.\u001b[0m\u001b[0mmode\u001b[0m\u001b[0;34m,\u001b[0m\u001b[0;34m\u001b[0m\u001b[0;34m\u001b[0m\u001b[0m\n",
            "\u001b[0;31mFileNotFoundError\u001b[0m: [Errno 2] No such file or directory: 'fixit.csv'"
          ]
        }
      ],
      "source": [
        "fixit = pd.read_csv(\"fixit.csv\")\n",
        "fixit.head()"
      ]
    },
    {
      "cell_type": "code",
      "execution_count": null,
      "metadata": {
        "id": "tVpVcOlqR0AJ"
      },
      "outputs": [],
      "source": [
        "feature_cols = ['Agent Experience','Agent Name','Customer Type','Priority','Problem Category','Ticket Type']\n",
        "X = fixit[feature_cols]\n",
        "y = fixit.SLAFullfillment"
      ]
    },
    {
      "cell_type": "code",
      "execution_count": null,
      "metadata": {
        "id": "II_jk2WOR0AK",
        "outputId": "37cfe35d-1025-4187-e4da-0c4353ca1402"
      },
      "outputs": [
        {
          "data": {
            "text/html": [
              "<div>\n",
              "<style scoped>\n",
              "    .dataframe tbody tr th:only-of-type {\n",
              "        vertical-align: middle;\n",
              "    }\n",
              "\n",
              "    .dataframe tbody tr th {\n",
              "        vertical-align: top;\n",
              "    }\n",
              "\n",
              "    .dataframe thead th {\n",
              "        text-align: right;\n",
              "    }\n",
              "</style>\n",
              "<table border=\"1\" class=\"dataframe\">\n",
              "  <thead>\n",
              "    <tr style=\"text-align: right;\">\n",
              "      <th></th>\n",
              "      <th>Agent Experience</th>\n",
              "      <th>Agent Name_Chris</th>\n",
              "      <th>Agent Name_Cindy</th>\n",
              "      <th>Agent Name_Fred</th>\n",
              "      <th>Agent Name_Jane</th>\n",
              "      <th>Agent Name_John</th>\n",
              "      <th>Agent Name_Kate</th>\n",
              "      <th>Agent Name_Kim</th>\n",
              "      <th>Agent Name_Lisa</th>\n",
              "      <th>Agent Name_Tom</th>\n",
              "      <th>...</th>\n",
              "      <th>Priority_0 - Unassigned</th>\n",
              "      <th>Priority_1 - Low</th>\n",
              "      <th>Priority_2 - Medium</th>\n",
              "      <th>Priority_3 - High</th>\n",
              "      <th>Problem Category_Access/Login</th>\n",
              "      <th>Problem Category_Hardware</th>\n",
              "      <th>Problem Category_Software</th>\n",
              "      <th>Problem Category_Systems</th>\n",
              "      <th>Ticket Type_Issue</th>\n",
              "      <th>Ticket Type_Request</th>\n",
              "    </tr>\n",
              "  </thead>\n",
              "  <tbody>\n",
              "    <tr>\n",
              "      <th>0</th>\n",
              "      <td>1</td>\n",
              "      <td>0</td>\n",
              "      <td>0</td>\n",
              "      <td>0</td>\n",
              "      <td>0</td>\n",
              "      <td>1</td>\n",
              "      <td>0</td>\n",
              "      <td>0</td>\n",
              "      <td>0</td>\n",
              "      <td>0</td>\n",
              "      <td>...</td>\n",
              "      <td>1</td>\n",
              "      <td>0</td>\n",
              "      <td>0</td>\n",
              "      <td>0</td>\n",
              "      <td>0</td>\n",
              "      <td>0</td>\n",
              "      <td>0</td>\n",
              "      <td>1</td>\n",
              "      <td>1</td>\n",
              "      <td>0</td>\n",
              "    </tr>\n",
              "    <tr>\n",
              "      <th>1</th>\n",
              "      <td>4</td>\n",
              "      <td>0</td>\n",
              "      <td>0</td>\n",
              "      <td>0</td>\n",
              "      <td>0</td>\n",
              "      <td>0</td>\n",
              "      <td>0</td>\n",
              "      <td>1</td>\n",
              "      <td>0</td>\n",
              "      <td>0</td>\n",
              "      <td>...</td>\n",
              "      <td>0</td>\n",
              "      <td>1</td>\n",
              "      <td>0</td>\n",
              "      <td>0</td>\n",
              "      <td>0</td>\n",
              "      <td>0</td>\n",
              "      <td>1</td>\n",
              "      <td>0</td>\n",
              "      <td>0</td>\n",
              "      <td>1</td>\n",
              "    </tr>\n",
              "    <tr>\n",
              "      <th>2</th>\n",
              "      <td>2</td>\n",
              "      <td>0</td>\n",
              "      <td>1</td>\n",
              "      <td>0</td>\n",
              "      <td>0</td>\n",
              "      <td>0</td>\n",
              "      <td>0</td>\n",
              "      <td>0</td>\n",
              "      <td>0</td>\n",
              "      <td>0</td>\n",
              "      <td>...</td>\n",
              "      <td>1</td>\n",
              "      <td>0</td>\n",
              "      <td>0</td>\n",
              "      <td>0</td>\n",
              "      <td>1</td>\n",
              "      <td>0</td>\n",
              "      <td>0</td>\n",
              "      <td>0</td>\n",
              "      <td>0</td>\n",
              "      <td>1</td>\n",
              "    </tr>\n",
              "    <tr>\n",
              "      <th>3</th>\n",
              "      <td>2</td>\n",
              "      <td>0</td>\n",
              "      <td>0</td>\n",
              "      <td>0</td>\n",
              "      <td>1</td>\n",
              "      <td>0</td>\n",
              "      <td>0</td>\n",
              "      <td>0</td>\n",
              "      <td>0</td>\n",
              "      <td>0</td>\n",
              "      <td>...</td>\n",
              "      <td>1</td>\n",
              "      <td>0</td>\n",
              "      <td>0</td>\n",
              "      <td>0</td>\n",
              "      <td>0</td>\n",
              "      <td>0</td>\n",
              "      <td>0</td>\n",
              "      <td>1</td>\n",
              "      <td>0</td>\n",
              "      <td>1</td>\n",
              "    </tr>\n",
              "    <tr>\n",
              "      <th>4</th>\n",
              "      <td>2</td>\n",
              "      <td>0</td>\n",
              "      <td>0</td>\n",
              "      <td>0</td>\n",
              "      <td>1</td>\n",
              "      <td>0</td>\n",
              "      <td>0</td>\n",
              "      <td>0</td>\n",
              "      <td>0</td>\n",
              "      <td>0</td>\n",
              "      <td>...</td>\n",
              "      <td>0</td>\n",
              "      <td>1</td>\n",
              "      <td>0</td>\n",
              "      <td>0</td>\n",
              "      <td>1</td>\n",
              "      <td>0</td>\n",
              "      <td>0</td>\n",
              "      <td>0</td>\n",
              "      <td>0</td>\n",
              "      <td>1</td>\n",
              "    </tr>\n",
              "  </tbody>\n",
              "</table>\n",
              "<p>5 rows × 25 columns</p>\n",
              "</div>"
            ],
            "text/plain": [
              "   Agent Experience  Agent Name_Chris  Agent Name_Cindy  Agent Name_Fred  \\\n",
              "0                 1                 0                 0                0   \n",
              "1                 4                 0                 0                0   \n",
              "2                 2                 0                 1                0   \n",
              "3                 2                 0                 0                0   \n",
              "4                 2                 0                 0                0   \n",
              "\n",
              "   Agent Name_Jane  Agent Name_John  Agent Name_Kate  Agent Name_Kim  \\\n",
              "0                0                1                0               0   \n",
              "1                0                0                0               1   \n",
              "2                0                0                0               0   \n",
              "3                1                0                0               0   \n",
              "4                1                0                0               0   \n",
              "\n",
              "   Agent Name_Lisa  Agent Name_Tom  ...  Priority_0 - Unassigned  \\\n",
              "0                0               0  ...                        1   \n",
              "1                0               0  ...                        0   \n",
              "2                0               0  ...                        1   \n",
              "3                0               0  ...                        1   \n",
              "4                0               0  ...                        0   \n",
              "\n",
              "   Priority_1 - Low  Priority_2 - Medium  Priority_3 - High  \\\n",
              "0                 0                    0                  0   \n",
              "1                 1                    0                  0   \n",
              "2                 0                    0                  0   \n",
              "3                 0                    0                  0   \n",
              "4                 1                    0                  0   \n",
              "\n",
              "   Problem Category_Access/Login  Problem Category_Hardware  \\\n",
              "0                              0                          0   \n",
              "1                              0                          0   \n",
              "2                              1                          0   \n",
              "3                              0                          0   \n",
              "4                              1                          0   \n",
              "\n",
              "   Problem Category_Software  Problem Category_Systems  Ticket Type_Issue  \\\n",
              "0                          0                         1                  1   \n",
              "1                          1                         0                  0   \n",
              "2                          0                         0                  0   \n",
              "3                          0                         1                  0   \n",
              "4                          0                         0                  0   \n",
              "\n",
              "   Ticket Type_Request  \n",
              "0                    0  \n",
              "1                    1  \n",
              "2                    1  \n",
              "3                    1  \n",
              "4                    1  \n",
              "\n",
              "[5 rows x 25 columns]"
            ]
          },
          "execution_count": 6,
          "metadata": {},
          "output_type": "execute_result"
        }
      ],
      "source": [
        "one_hot_X = pd.get_dummies(X)\n",
        "one_hot_X.head()"
      ]
    },
    {
      "cell_type": "code",
      "execution_count": null,
      "metadata": {
        "id": "xxkkR6DwR0AN",
        "outputId": "f8c0a7cd-56a7-4e67-91e7-94ef3fa20a34"
      },
      "outputs": [
        {
          "name": "stdout",
          "output_type": "stream",
          "text": [
            "Accuracy: 0.8734926412407027\n"
          ]
        }
      ],
      "source": [
        "X_train, X_test, y_train, y_test = train_test_split(one_hot_X,y,test_size=0.33)\n",
        "dtree = DecisionTreeClassifier(max_depth=4)\n",
        "\n",
        "# train Decision Tree classifer\n",
        "dtree = dtree.fit(X_train,y_train)\n",
        "\n",
        "# make the predictions on the test data\n",
        "y_pred_tree = dtree.predict(X_test)\n",
        "\n",
        "# Model Accuracy, how often is the classifier correct?\n",
        "print(\"Accuracy:\",metrics.accuracy_score(y_test, y_pred_tree))"
      ]
    },
    {
      "cell_type": "code",
      "execution_count": null,
      "metadata": {
        "id": "i9UNtFMyR0AO",
        "outputId": "693781bf-22fb-4af4-bfd4-7d70135dcbc5"
      },
      "outputs": [
        {
          "ename": "NameError",
          "evalue": "name 'StringIO' is not defined",
          "output_type": "error",
          "traceback": [
            "\u001b[1;31m---------------------------------------------------------------------------\u001b[0m",
            "\u001b[1;31mNameError\u001b[0m                                 Traceback (most recent call last)",
            "Input \u001b[1;32mIn [8]\u001b[0m, in \u001b[0;36m<cell line: 2>\u001b[1;34m()\u001b[0m\n\u001b[0;32m      1\u001b[0m \u001b[38;5;66;03m# finally, let's visualise this using GraphViz:\u001b[39;00m\n\u001b[1;32m----> 2\u001b[0m dot_data \u001b[38;5;241m=\u001b[39m \u001b[43mStringIO\u001b[49m()\n\u001b[0;32m      3\u001b[0m export_graphviz(dtree, out_file\u001b[38;5;241m=\u001b[39mdot_data,  \n\u001b[0;32m      4\u001b[0m                 filled\u001b[38;5;241m=\u001b[39m\u001b[38;5;28;01mTrue\u001b[39;00m, rounded\u001b[38;5;241m=\u001b[39m\u001b[38;5;28;01mTrue\u001b[39;00m,\n\u001b[0;32m      5\u001b[0m                 special_characters\u001b[38;5;241m=\u001b[39m\u001b[38;5;28;01mTrue\u001b[39;00m,feature_names \u001b[38;5;241m=\u001b[39m \u001b[38;5;28mlist\u001b[39m(X_train\u001b[38;5;241m.\u001b[39mcolumns),class_names\u001b[38;5;241m=\u001b[39m[\u001b[38;5;124m'\u001b[39m\u001b[38;5;124mIN_RANGE\u001b[39m\u001b[38;5;124m'\u001b[39m,\u001b[38;5;124m'\u001b[39m\u001b[38;5;124mSLA_VIOLATION\u001b[39m\u001b[38;5;124m'\u001b[39m])\n\u001b[0;32m      6\u001b[0m graph \u001b[38;5;241m=\u001b[39m pydotplus\u001b[38;5;241m.\u001b[39mgraph_from_dot_data(dot_data\u001b[38;5;241m.\u001b[39mgetvalue())  \n",
            "\u001b[1;31mNameError\u001b[0m: name 'StringIO' is not defined"
          ]
        }
      ],
      "source": [
        "# finally, let's visualise this using GraphViz:\n",
        "dot_data = StringIO()\n",
        "export_graphviz(dtree, out_file=dot_data,\n",
        "                filled=True, rounded=True,\n",
        "                special_characters=True,feature_names = list(X_train.columns),class_names=['IN_RANGE','SLA_VIOLATION'])\n",
        "graph = pydotplus.graph_from_dot_data(dot_data.getvalue())\n",
        "Image(graph.create_png())"
      ]
    },
    {
      "cell_type": "code",
      "execution_count": null,
      "metadata": {
        "id": "epDTkj0aR0AP"
      },
      "outputs": [],
      "source": []
    }
  ],
  "metadata": {
    "kernelspec": {
      "display_name": "Python 3 (ipykernel)",
      "language": "python",
      "name": "python3"
    },
    "language_info": {
      "codemirror_mode": {
        "name": "ipython",
        "version": 3
      },
      "file_extension": ".py",
      "mimetype": "text/x-python",
      "name": "python",
      "nbconvert_exporter": "python",
      "pygments_lexer": "ipython3",
      "version": "3.9.12"
    },
    "colab": {
      "provenance": []
    }
  },
  "nbformat": 4,
  "nbformat_minor": 0
}
